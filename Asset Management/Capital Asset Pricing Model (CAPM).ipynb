{
 "cells": [
  {
   "cell_type": "markdown",
   "metadata": {},
   "source": [
    "# Capital Asset Pricing Model (CAPM) \n",
    "\n",
    "The capital asset pricing model (CAPM) is a model used to determine a theoretically appropriate required rate of retrun of an asset, to make decisions about adding assets to a well-diversified portfolio.   \n",
    "   \n",
    "The relationship between risk and rates of returns in a security: \n",
    "\n",
    "$$ R_i = R_j + \\beta_i (R_m - R_f) $$ \n",
    "For a security $i$, $R_i$ is its returns, $\\beta_i$ is its beta. \n",
    "$R_j$ is the risk-free rate, $R_m$ is the market portfolio's returns (benchmark) \n",
    "    \n",
    "$R_m - R_f$ is risk premium  \n",
    "$\\beta$ is a measure of the systematic risk of a stock, a risk that cannot be diversified away. In essence, it describes the sensitivity of stock returns with respect to\n",
    "movements in the market    \n",
    "   \n",
    "\n"
   ]
  },
  {
   "cell_type": "code",
   "execution_count": 3,
   "metadata": {
    "collapsed": false
   },
   "outputs": [
    {
     "name": "stdout",
     "output_type": "stream",
     "text": [
      "0.507743187877 -0.00848190035246\n"
     ]
    }
   ],
   "source": [
    "#Linear Regression with Scipy \n",
    "from scipy import stats \n",
    "\n",
    "stock_returns =[0.065, 0.0265, -0.0593, -0.001, 0.0346]\n",
    "mkt_returns = [0.055, -0.09, -0.041, 0.045, 0.022]\n",
    "\n",
    "beta, alpha, r_value, p_value, std_err = stats.linregress(stock_returns, mkt_returns) \n",
    "print (beta, alpha)"
   ]
  },
  {
   "cell_type": "markdown",
   "metadata": {},
   "source": [
    "# The Arbitrage Pricing Theory model"
   ]
  },
  {
   "cell_type": "markdown",
   "metadata": {},
   "source": [
    "The CAPM suffers from several limitations, such as the use of a mean-variance\n",
    "framework and the fact that returns are captured by one risk factor—the market risk\n",
    "factor. In a well-diversifed portfolio, the unsystematic risk of various stocks cancels\n",
    "out and is essentially eliminated.  \n",
    "   \n",
    "The Arbitrage Pricing Theory (APT) model was put forward to address these shortcomings and offers a general approach of determining the asset prices other than the mean and variances. The APT model assumes that the security returns are generated according to multiple factor models, which consist of a linear combination of several systematic risk factors. Such factors could be the inﬂation rate, GDP growth rate, real interest rates, or dividends.   \n",
    "   \n",
    "$$ E[R_i] = \\alpha_i + \\beta_{i,1} F_1 + \\beta_{i,2}F_2 +...+ \\beta_{i,j}F_j$$"
   ]
  },
  {
   "cell_type": "code",
   "execution_count": 6,
   "metadata": {
    "collapsed": false
   },
   "outputs": [
    {
     "name": "stderr",
     "output_type": "stream",
     "text": [
      "C:\\Users\\Stagiaire\\lib\\site-packages\\scipy\\stats\\stats.py:1327: UserWarning: kurtosistest only valid for n>=20 ... continuing anyway, n=9\n",
      "  \"anyway, n=%i\" % int(n))\n"
     ]
    },
    {
     "data": {
      "text/html": [
       "<table class=\"simpletable\">\n",
       "<caption>OLS Regression Results</caption>\n",
       "<tr>\n",
       "  <th>Dep. Variable:</th>            <td>y</td>        <th>  R-squared:         </th> <td>   0.523</td>\n",
       "</tr>\n",
       "<tr>\n",
       "  <th>Model:</th>                   <td>OLS</td>       <th>  Adj. R-squared:    </th> <td>  -2.817</td>\n",
       "</tr>\n",
       "<tr>\n",
       "  <th>Method:</th>             <td>Least Squares</td>  <th>  F-statistic:       </th> <td>  0.1566</td>\n",
       "</tr>\n",
       "<tr>\n",
       "  <th>Date:</th>             <td>Wed, 17 May 2017</td> <th>  Prob (F-statistic):</th>  <td> 0.961</td> \n",
       "</tr>\n",
       "<tr>\n",
       "  <th>Time:</th>                 <td>16:26:56</td>     <th>  Log-Likelihood:    </th> <td>  2.4822</td>\n",
       "</tr>\n",
       "<tr>\n",
       "  <th>No. Observations:</th>      <td>     9</td>      <th>  AIC:               </th> <td>   11.04</td>\n",
       "</tr>\n",
       "<tr>\n",
       "  <th>Df Residuals:</th>          <td>     1</td>      <th>  BIC:               </th> <td>   12.61</td>\n",
       "</tr>\n",
       "<tr>\n",
       "  <th>Df Model:</th>              <td>     7</td>      <th>                     </th>     <td> </td>   \n",
       "</tr>\n",
       "<tr>\n",
       "  <th>Covariance Type:</th>      <td>nonrobust</td>    <th>                     </th>     <td> </td>   \n",
       "</tr>\n",
       "</table>\n",
       "<table class=\"simpletable\">\n",
       "<tr>\n",
       "    <td></td>       <th>coef</th>     <th>std err</th>      <th>t</th>      <th>P>|t|</th> <th>[95.0% Conf. Int.]</th> \n",
       "</tr>\n",
       "<tr>\n",
       "  <th>const</th> <td>    0.0166</td> <td>    1.147</td> <td>    0.014</td> <td> 0.991</td> <td>  -14.562    14.595</td>\n",
       "</tr>\n",
       "<tr>\n",
       "  <th>x1</th>    <td>    0.7530</td> <td>    1.192</td> <td>    0.632</td> <td> 0.641</td> <td>  -14.390    15.896</td>\n",
       "</tr>\n",
       "<tr>\n",
       "  <th>x2</th>    <td>    0.8625</td> <td>    1.164</td> <td>    0.741</td> <td> 0.594</td> <td>  -13.933    15.658</td>\n",
       "</tr>\n",
       "<tr>\n",
       "  <th>x3</th>    <td>   -0.6322</td> <td>    0.926</td> <td>   -0.683</td> <td> 0.619</td> <td>  -12.394    11.130</td>\n",
       "</tr>\n",
       "<tr>\n",
       "  <th>x4</th>    <td>   -0.2542</td> <td>    0.937</td> <td>   -0.271</td> <td> 0.831</td> <td>  -12.157    11.649</td>\n",
       "</tr>\n",
       "<tr>\n",
       "  <th>x5</th>    <td>    0.0010</td> <td>    0.704</td> <td>    0.001</td> <td> 0.999</td> <td>   -8.947     8.949</td>\n",
       "</tr>\n",
       "<tr>\n",
       "  <th>x6</th>    <td>    0.2147</td> <td>    1.056</td> <td>    0.203</td> <td> 0.872</td> <td>  -13.206    13.635</td>\n",
       "</tr>\n",
       "<tr>\n",
       "  <th>x7</th>    <td>   -0.3039</td> <td>    0.927</td> <td>   -0.328</td> <td> 0.798</td> <td>  -12.087    11.479</td>\n",
       "</tr>\n",
       "</table>\n",
       "<table class=\"simpletable\">\n",
       "<tr>\n",
       "  <th>Omnibus:</th>       <td> 0.353</td> <th>  Durbin-Watson:     </th> <td>   1.865</td>\n",
       "</tr>\n",
       "<tr>\n",
       "  <th>Prob(Omnibus):</th> <td> 0.838</td> <th>  Jarque-Bera (JB):  </th> <td>   0.436</td>\n",
       "</tr>\n",
       "<tr>\n",
       "  <th>Skew:</th>          <td>-0.096</td> <th>  Prob(JB):          </th> <td>   0.804</td>\n",
       "</tr>\n",
       "<tr>\n",
       "  <th>Kurtosis:</th>      <td> 1.939</td> <th>  Cond. No.          </th> <td>    14.7</td>\n",
       "</tr>\n",
       "</table>"
      ],
      "text/plain": [
       "<class 'statsmodels.iolib.summary.Summary'>\n",
       "\"\"\"\n",
       "                            OLS Regression Results                            \n",
       "==============================================================================\n",
       "Dep. Variable:                      y   R-squared:                       0.523\n",
       "Model:                            OLS   Adj. R-squared:                 -2.817\n",
       "Method:                 Least Squares   F-statistic:                    0.1566\n",
       "Date:                Wed, 17 May 2017   Prob (F-statistic):              0.961\n",
       "Time:                        16:26:56   Log-Likelihood:                 2.4822\n",
       "No. Observations:                   9   AIC:                             11.04\n",
       "Df Residuals:                       1   BIC:                             12.61\n",
       "Df Model:                           7                                         \n",
       "Covariance Type:            nonrobust                                         \n",
       "==============================================================================\n",
       "                 coef    std err          t      P>|t|      [95.0% Conf. Int.]\n",
       "------------------------------------------------------------------------------\n",
       "const          0.0166      1.147      0.014      0.991       -14.562    14.595\n",
       "x1             0.7530      1.192      0.632      0.641       -14.390    15.896\n",
       "x2             0.8625      1.164      0.741      0.594       -13.933    15.658\n",
       "x3            -0.6322      0.926     -0.683      0.619       -12.394    11.130\n",
       "x4            -0.2542      0.937     -0.271      0.831       -12.157    11.649\n",
       "x5             0.0010      0.704      0.001      0.999        -8.947     8.949\n",
       "x6             0.2147      1.056      0.203      0.872       -13.206    13.635\n",
       "x7            -0.3039      0.927     -0.328      0.798       -12.087    11.479\n",
       "==============================================================================\n",
       "Omnibus:                        0.353   Durbin-Watson:                   1.865\n",
       "Prob(Omnibus):                  0.838   Jarque-Bera (JB):                0.436\n",
       "Skew:                          -0.096   Prob(JB):                        0.804\n",
       "Kurtosis:                       1.939   Cond. No.                         14.7\n",
       "==============================================================================\n",
       "\n",
       "Warnings:\n",
       "[1] Standard Errors assume that the covariance matrix of the errors is correctly specified.\n",
       "\"\"\""
      ]
     },
     "execution_count": 6,
     "metadata": {},
     "output_type": "execute_result"
    }
   ],
   "source": [
    "\"\"\" Least squares regression with statsmodels \"\"\"\n",
    "import numpy as np\n",
    "import statsmodels.api as sm\n",
    "# Generate some sample data\n",
    "num_periods = 9\n",
    "all_values = np.array([np.random.random(8)\n",
    "for i in range(num_periods)])\n",
    "# Filter the data\n",
    "y_values = all_values[:, 0] # First column values as Y\n",
    "x_values = all_values[:, 1:] # All other values as X\n",
    "x_values = sm.add_constant(x_values) # Include the intercept\n",
    "results = sm.OLS(y_values, x_values).fit() # Regress and fit the model \n",
    "  \n",
    "results.summary()"
   ]
  },
  {
   "cell_type": "code",
   "execution_count": 7,
   "metadata": {
    "collapsed": false
   },
   "outputs": [
    {
     "data": {
      "text/plain": [
       "array([ 0.01659659,  0.75297373,  0.86247289, -0.63217089, -0.25423838,\n",
       "        0.00099556,  0.21465094, -0.30393913])"
      ]
     },
     "execution_count": 7,
     "metadata": {},
     "output_type": "execute_result"
    }
   ],
   "source": [
    "results.params"
   ]
  },
  {
   "cell_type": "code",
   "execution_count": null,
   "metadata": {
    "collapsed": true
   },
   "outputs": [],
   "source": []
  }
 ],
 "metadata": {
  "kernelspec": {
   "display_name": "Python 3",
   "language": "python",
   "name": "python3"
  },
  "language_info": {
   "codemirror_mode": {
    "name": "ipython",
    "version": 3
   },
   "file_extension": ".py",
   "mimetype": "text/x-python",
   "name": "python",
   "nbconvert_exporter": "python",
   "pygments_lexer": "ipython3",
   "version": "3.6.0"
  }
 },
 "nbformat": 4,
 "nbformat_minor": 2
}
