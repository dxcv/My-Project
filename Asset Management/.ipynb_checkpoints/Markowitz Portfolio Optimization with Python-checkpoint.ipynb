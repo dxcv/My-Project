{
 "cells": [
  {
   "cell_type": "markdown",
   "metadata": {},
   "source": [
    "# Markowitz Portfolio Optimization\n",
    "The path-breaking insight of Markowitz was that the risk/return profiles of single assets should not be viewed separately but in their porfolio context. In this respect, portfolios are considered to be efficient if they are either risk minimal for a given return level or have the maximum return for a given level of risk. Even though both views of efficient portfolios are equivalent, the kind of portfolio optimization does differ for these two cases. The former is a **quadaratic optimization with linear constraints, whereas in the latter the objective function is linear and the constraints are quadratic**  \n",
    "   \n",
    "### Assumptions:   \n",
    "Assuming that there are $N$ assets and that these are infinitely divisible. The returns of these assets are jointly normally distributed.   \n",
    "  "
   ]
  },
  {
   "cell_type": "markdown",
   "metadata": {},
   "source": [
    "## 1. Some definitions\n",
    "### 1.1 Return, rate of return of assets\n",
    "An investment instrument that can be bought and sold is often called an asset. Suppose we purchase ans asset for $x_0$ dollars on one date and later sell it for $x_1$ dollars.  \n",
    "$$ \\text{return:  } R = \\frac{x_1}{x_0} $$ \n",
    "$$ \\text{rate of return:  } r = R - 1 = \\frac{x_1 - x_0}{x_0}$$ \n",
    "  \n",
    "### 1.2 Weight \n",
    "$w_i$ is a weighting factor for asset i. Noting that we allow the weights to take negative values and when negative it means that the asset is being shorted in our portfolio.  \n",
    " \n",
    "### 1.3 Rate of return on the portfolio:  \n",
    "$$ r = R- 1 = \\displaystyle\\sum_{i=1}^n r_iw_i$$ \n",
    "\n",
    "## 2. The Basics of Markowitz Mean-Variance Portforlio Theory \n",
    "### 2.1 Assumptions \n",
    "1. One models the rate of returns on assets as random variables. \n",
    "2. There does not exit any asset that is a combination of other assets in the portfolio, iie non existence of redundant security. \n",
    "\n",
    "### 2.2. Efficient frontier\n",
    "The goal is then to choose the portfolio weighting factors optionally.  An **optimal set of weights is one in which the portforlio achieves an acceptable baseline expected rate of return with minimal volatility.**  \n",
    "  \n",
    "$r_i$ is the random variable associated with the rate of return for asset i, for i= 1,2...,n and \n",
    "$$z = \n",
    "\\begin{pmatrix} \n",
    "r_1 \\\\\n",
    "r_2 \\\\ \n",
    "\\vdots \\\\ \n",
    "r_n \n",
    "\\end{pmatrix}$$  \n",
    "$\\mu_i = E(r_i)$ - mean of rate of return for asset i     \n",
    "$\\sigma_i^2 $ - variance of rate of return for asset i, $\\sigma_{i,j}$ the covariance between $r_i$ and $r_j$     \n",
    "   \n",
    "$\\mu = (\\mu_1,\\mu_2...,\\mu_n)^T$, $\\sum = cov(z)$ matrix of covariance-variance with $\\sigma_i^2 $ in diagonal and  $\\sigma_{i,j} $ in off-diagonal          \n",
    "$w = (w_1,w_2...,w_n)^T$ is a set of weights associated with a poftfolio   \n",
    "\n",
    "$ r = \\displaystyle\\sum_{i=1}^n r_iw_i$ is the rate of return of this portfolio, random variable with mean $\\mu^Tw$ and variance $w^T\\sum w$\n",
    "\n",
    "if $\\mu_p$ is the acceptable baseline expected rate of return, Markowitz portfolio Optimization problem becomes the following quadratic program:  \n",
    "$$ \n",
    "\\begin{eqnarray} min \\quad \\frac{1}{2} w^T \\Sigma w  \\\\\n",
    "\\text{subject to:  }~~~ \\mu^Tw = \\mu_p  \\\\ \n",
    "e^Tw = 1\n",
    "\\end{eqnarray}\n",
    "$$\n",
    "with $e$ denotes the vector of ones   \n",
    "  \n",
    "Or  $$ Min \\{ w^T \\Sigma w ~|~ A^Tw = B \\} $$\n",
    "with $A = ( m ~~ e ) $ and $ B = ( \\mu_b ~~ 1)^T $   \n",
    "\n",
    "We use the Lagrange method to solve this system.  \n",
    "$$\n",
    "  \\begin{cases}\n",
    "    \\Sigma w - A \\lambda = 0 \\\\     \n",
    "    A^Tw = B  \n",
    "    \\end{cases} \n",
    "    \\quad \\text{with} \\quad\n",
    "  \\lambda =\n",
    "    \\begin{pmatrix}\n",
    "       \\lambda_1 \\\\\n",
    "       \\lambda_2\n",
    "    \\end{pmatrix}\n",
    "    $$ \n",
    "    \n",
    "So $$w = \\Sigma ^{-1} A \\lambda$$ \n",
    "$ \\Rightarrow \\quad A^T \\Sigma ^{-1} A \\lambda = B $    \n",
    "$ \\Rightarrow \\lambda = (A^T \\Sigma ^{-1} A)^{-1} B = H^{-1}B$   \n",
    "  \n",
    "with $H = (A^T\\Sigma^{-1}A)$ and $H^T = (A^T\\Sigma^{-1}A)^T = A^T\\Sigma^{-1}A = H$   \n",
    "So H is a symmetric (2x2) matrix.   "
   ]
  },
  {
   "cell_type": "code",
   "execution_count": 1,
   "metadata": {
    "collapsed": false
   },
   "outputs": [
    {
     "ename": "ModuleNotFoundError",
     "evalue": "No module named 'cvxopt'",
     "output_type": "error",
     "traceback": [
      "\u001b[0;31m---------------------------------------------------------------------------\u001b[0m",
      "\u001b[0;31mModuleNotFoundError\u001b[0m                       Traceback (most recent call last)",
      "\u001b[0;32m<ipython-input-1-e36d3ba0c769>\u001b[0m in \u001b[0;36m<module>\u001b[0;34m()\u001b[0m\n\u001b[1;32m      2\u001b[0m \u001b[1;32mimport\u001b[0m \u001b[0mnumpy\u001b[0m \u001b[1;32mas\u001b[0m \u001b[0mnp\u001b[0m\u001b[1;33m\u001b[0m\u001b[0m\n\u001b[1;32m      3\u001b[0m \u001b[1;32mimport\u001b[0m \u001b[0mmatplotlib\u001b[0m\u001b[1;33m.\u001b[0m\u001b[0mpyplot\u001b[0m \u001b[1;32mas\u001b[0m \u001b[0mplt\u001b[0m\u001b[1;33m\u001b[0m\u001b[0m\n\u001b[0;32m----> 4\u001b[0;31m \u001b[1;32mimport\u001b[0m \u001b[0mcvxopt\u001b[0m \u001b[1;32mas\u001b[0m \u001b[0mopt\u001b[0m\u001b[1;33m\u001b[0m\u001b[0m\n\u001b[0m\u001b[1;32m      5\u001b[0m \u001b[1;32mfrom\u001b[0m \u001b[0mcvxopt\u001b[0m \u001b[1;32mimport\u001b[0m \u001b[0mblas\u001b[0m\u001b[1;33m,\u001b[0m \u001b[0msolvers\u001b[0m\u001b[1;33m\u001b[0m\u001b[0m\n\u001b[1;32m      6\u001b[0m \u001b[1;32mimport\u001b[0m \u001b[0mpandas\u001b[0m \u001b[1;32mas\u001b[0m \u001b[0mpd\u001b[0m\u001b[1;33m\u001b[0m\u001b[0m\n",
      "\u001b[0;31mModuleNotFoundError\u001b[0m: No module named 'cvxopt'"
     ]
    }
   ],
   "source": [
    "%matplotlib inline\n",
    "import numpy as np\n",
    "import matplotlib.pyplot as plt\n",
    "import cvxopt as opt\n",
    "from cvxopt import blas, solvers\n",
    "import pandas as pd\n",
    "\n",
    "np.random.seed(123)\n",
    "\n",
    "# Turn off progress printing \n",
    "solvers.options['show_progress'] = False"
   ]
  },
  {
   "cell_type": "code",
   "execution_count": null,
   "metadata": {
    "collapsed": false
   },
   "outputs": [],
   "source": [
    "## NUMBER OF ASSETS\n",
    "n_assets = 4\n",
    "\n",
    "## NUMBER OF OBSERVATIONS\n",
    "n_obs = 1000\n",
    "\n",
    "return_vec = np.random.randn(n_assets, n_obs)\n",
    "print(return_vec)"
   ]
  },
  {
   "cell_type": "code",
   "execution_count": null,
   "metadata": {
    "collapsed": false
   },
   "outputs": [],
   "source": [
    "plt.plot(return_vec.T, alpha=.4);\n",
    "plt.xlabel('time')\n",
    "plt.ylabel('returns')"
   ]
  },
  {
   "cell_type": "code",
   "execution_count": null,
   "metadata": {
    "collapsed": false
   },
   "outputs": [],
   "source": [
    "def rand_weights(n):\n",
    "    ''' Produces n random weights that sum to 1 '''\n",
    "    k = np.random.rand(n)\n",
    "    return k / sum(k)\n",
    "\n",
    "print rand_weights(n_assets)"
   ]
  },
  {
   "cell_type": "markdown",
   "metadata": {},
   "source": [
    "Lets evaluate how many of these random portfolios would perform. Towards this goal we are calculating the mean returns as well as the volatility (here we are using standard deviation)   \n",
    "Expected return is calculated as the weighted average of the likely profits of the assets in the portfolio, weighted by the likely profits of each asset class\n"
   ]
  },
  {
   "cell_type": "code",
   "execution_count": null,
   "metadata": {
    "collapsed": true
   },
   "outputs": [],
   "source": [
    "def random_portfolio(returns):\n",
    "    ''' \n",
    "    Returns the mean and standard deviation of returns for a random portfolio\n",
    "    '''\n",
    "\n",
    "    m = np.asmatrix(np.mean(returns, axis=1))\n",
    "    w = np.asmatrix(rand_weights(returns.shape[0]))\n",
    "    C = np.asmatrix(np.cov(returns))\n",
    "    \n",
    "    mu = w * m.T\n",
    "    sigma = np.sqrt(w * C * w.T)\n",
    "    \n",
    "    # This recursion reduces outliers to keep plots pretty\n",
    "    if sigma > 2:\n",
    "        return random_portfolio(returns)\n",
    "    return mu, sigma"
   ]
  },
  {
   "cell_type": "markdown",
   "metadata": {},
   "source": [
    "Lets generate the mean returns and volatility for 500 random portfolios:"
   ]
  },
  {
   "cell_type": "code",
   "execution_count": null,
   "metadata": {
    "collapsed": false
   },
   "outputs": [],
   "source": [
    "n_portfolios = 500 \n",
    "means, stds = np.column_stack([\n",
    "    random_portfolio(return_vec) \n",
    "    for _ in xrange(n_portfolios)\n",
    "])"
   ]
  },
  {
   "cell_type": "code",
   "execution_count": null,
   "metadata": {
    "collapsed": false
   },
   "outputs": [],
   "source": [
    "plt.plot(stds, means, 'o', markersize=5)\n",
    "plt.xlabel('std')\n",
    "plt.ylabel('mean')\n",
    "plt.title('Mean and standard deviation of returns of randomly generated portfolios')"
   ]
  },
  {
   "cell_type": "code",
   "execution_count": null,
   "metadata": {
    "collapsed": false
   },
   "outputs": [],
   "source": [
    "def optimal_portfolio(returns):\n",
    "    n = len(returns)\n",
    "    returns = np.asmatrix(returns)\n",
    "    \n",
    "    N = 100\n",
    "    mus = [10**(5.0 * t/N - 1.0) for t in range(N)]\n",
    "    \n",
    "    # Convert to cvxopt matrices\n",
    "    S = opt.matrix(np.cov(returns))\n",
    "    pbar = opt.matrix(np.mean(returns, axis=1))\n",
    "    \n",
    "    # Create constraint matrices\n",
    "    G = -opt.matrix(np.eye(n))   # negative n x n identity matrix\n",
    "    h = opt.matrix(0.0, (n ,1))\n",
    "    A = opt.matrix(1.0, (1, n))\n",
    "    b = opt.matrix(1.0)\n",
    "    \n",
    "    # Calculate efficient frontier weights using quadratic programming\n",
    "    portfolios = [solvers.qp(mu*S, -pbar, G, h, A, b)['x'] \n",
    "                  for mu in mus]\n",
    "    ## CALCULATE RISKS AND RETURNS FOR FRONTIER\n",
    "    returns = [blas.dot(pbar, x) for x in portfolios]\n",
    "    risks = [np.sqrt(blas.dot(x, S*x)) for x in portfolios]\n",
    "    ## CALCULATE THE 2ND DEGREE POLYNOMIAL OF THE FRONTIER CURVE\n",
    "    m1 = np.polyfit(returns, risks, 2)\n",
    "    x1 = np.sqrt(m1[2] / m1[0])\n",
    "    # CALCULATE THE OPTIMAL PORTFOLIO\n",
    "    wt = solvers.qp(opt.matrix(x1 * S), -pbar, G, h, A, b)['x']\n",
    "    return np.asarray(wt), returns, risks\n",
    "\n",
    "weights, returns, risks = optimal_portfolio(return_vec)\n",
    "\n",
    "plt.plot(stds, means, 'o')\n",
    "plt.ylabel('mean')\n",
    "plt.xlabel('std')\n",
    "plt.plot(risks, returns, 'y-o')"
   ]
  },
  {
   "cell_type": "code",
   "execution_count": null,
   "metadata": {
    "collapsed": false
   },
   "outputs": [],
   "source": [
    "print (weights)"
   ]
  },
  {
   "cell_type": "markdown",
   "metadata": {
    "collapsed": true
   },
   "source": [
    "## 3. Minimum Variance Portfolio \n",
    "Suppose an investor desires to invest in a portfolio with the least amount of risk. He doesn’t care about his expected return, he only wants to invest all his money with the lowest possible amount of risk. Because he will always invest in an efficient portfolio, he will choose the portfolio on the efficient frontier with minimum standard deviation. At this point, also the variance is minimal. That is why this portfolio is called the minimum variance portfolio. \n"
   ]
  },
  {
   "cell_type": "markdown",
   "metadata": {},
   "source": [
    "## 4. Tangency portfolio \n",
    "Suppose an investor has other preferences than taking the least possible amount of risk and thus investing in the minimum variance portfolio. An example of another preference is investing in the portfolio with maximum Sharpe ratio. The Sharpe ratio is defined as the return-risk ratio, so"
   ]
  },
  {
   "cell_type": "code",
   "execution_count": null,
   "metadata": {
    "collapsed": true
   },
   "outputs": [],
   "source": []
  }
 ],
 "metadata": {
  "kernelspec": {
   "display_name": "Python 3",
   "language": "python",
   "name": "python3"
  },
  "language_info": {
   "codemirror_mode": {
    "name": "ipython",
    "version": 3
   },
   "file_extension": ".py",
   "mimetype": "text/x-python",
   "name": "python",
   "nbconvert_exporter": "python",
   "pygments_lexer": "ipython3",
   "version": "3.6.0"
  }
 },
 "nbformat": 4,
 "nbformat_minor": 2
}
